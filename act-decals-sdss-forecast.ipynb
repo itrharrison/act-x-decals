{
 "cells": [
  {
   "cell_type": "code",
   "execution_count": 1,
   "id": "14995056",
   "metadata": {},
   "outputs": [],
   "source": [
    "import numpy as np\n",
    "from astropy import units\n",
    "import pyccl as ccl\n",
    "import sacc\n",
    "\n",
    "from matplotlib import pyplot as plt"
   ]
  },
  {
   "cell_type": "code",
   "execution_count": 2,
   "id": "ad6b6557",
   "metadata": {},
   "outputs": [],
   "source": [
    "cosmo = ccl.Cosmology(Omega_c=0.25,\n",
    "                      Omega_b=0.05,\n",
    "                      h=0.7,\n",
    "                      n_s=0.965,\n",
    "                      A_s=2.11e-9,\n",
    "                      Omega_k=0.0,\n",
    "                      Neff=3.046,\n",
    "                      matter_power_spectrum='linear')"
   ]
  },
  {
   "cell_type": "code",
   "execution_count": 3,
   "id": "b25cb590",
   "metadata": {},
   "outputs": [],
   "source": [
    "def setup_galaxy_tracers(cosmo, dndz, b1, s1):\n",
    "    \n",
    "    tracer_list = []\n",
    "    \n",
    "    for ibin in np.arange(1,dndz.shape[-1]):\n",
    "        \n",
    "        tracer_list.append(ccl.NumberCountsTracer(cosmo,\n",
    "                                                  has_rsd=False,\n",
    "                                                  dndz=(dndz[:,0], dndz[:,ibin-1]),\n",
    "                                                  bias=(dndz[:,0], b1[ibin-1] * np.ones(len(dndz[:,0]))), \n",
    "                                                  mag_bias=(dndz[:,0], s1[ibin-1] * np.ones(len(dndz[:,0])))\n",
    "                                                  )\n",
    "                      )\n",
    "    \n",
    "    return tracer_list"
   ]
  },
  {
   "cell_type": "code",
   "execution_count": 4,
   "id": "4e98ad6d",
   "metadata": {},
   "outputs": [],
   "source": [
    "def calculate_cl(cosmo, galaxy_tracers, cmb_tracer, dndz, ngal, binning):\n",
    "   \n",
    "    n_maps = len(galaxy_tracers) + 1\n",
    "    \n",
    "    cls = np.zeros([n_maps, n_maps, binning['n_ell']])\n",
    "\n",
    "    cls[0, 0, :] = ccl.angular_cl(cosmo, cmb_tracer, cmb_tracer, binning['ells']) + Nell_act_k_binned\n",
    "\n",
    "    for ibin in np.arange(1,dndz.shape[-1]):\n",
    "\n",
    "        Nell_gals_bin = np.ones(binning['n_ell']) / (ngal[ibin-1].value * (60 * 180 / np.pi)**2)\n",
    "\n",
    "        cls[0, ibin, :] = ccl.angular_cl(cosmo, galaxy_tracers[ibin-1], cmb_tracer, binning['ells'])\n",
    "        cls[ibin, 0, :] = cls[0, ibin, :]\n",
    "\n",
    "        for jbin in np.arange(1,dndz.shape[-1]):\n",
    "            if ibin==jbin:\n",
    "                cls[ibin, ibin, :] = ccl.angular_cl(cosmo, galaxy_tracers[ibin-1], galaxy_tracers[ibin-1], binning['ells']) + Nell_gals_bin\n",
    "            else:\n",
    "                cls[ibin, jbin, :] = ccl.angular_cl(cosmo, galaxy_tracers[ibin-1], galaxy_tracers[jbin-1], binning['ells'])\n",
    "                cls[jbin, ibin, :] = ccl.angular_cl(cosmo, galaxy_tracers[jbin-1], galaxy_tracers[ibin-1], binning['ells'])\n",
    "                \n",
    "    return cls"
   ]
  },
  {
   "cell_type": "code",
   "execution_count": 5,
   "id": "739e0409",
   "metadata": {},
   "outputs": [],
   "source": [
    "def calculate_knox_covariance(cls, binning, fsky):\n",
    "    \n",
    "    n_maps = cls.shape[0]\n",
    "    n_cross = (n_maps * (n_maps + 1)) // 2\n",
    "    covar = np.zeros([n_cross, n_ell, n_cross, binning['n_ell']])\n",
    "\n",
    "    id_i = 0\n",
    "    for i1 in range(n_maps):\n",
    "        for i2 in range(i1, n_maps):\n",
    "            id_j = 0\n",
    "            for j1 in range(n_maps):\n",
    "                for j2 in range(j1, n_maps):\n",
    "                    cl_i1j1 = cls[i1, j1, :]\n",
    "                    cl_i1j2 = cls[i1, j2, :]\n",
    "                    cl_i2j1 = cls[i2, j1, :]\n",
    "                    cl_i2j2 = cls[i2, j2, :]\n",
    "                    # Knox formula\n",
    "                    cov = (cl_i1j1 * cl_i2j2 + cl_i1j2 * cl_i2j1) / (binning['delta_ell'] * fsky * (2 * binning['ells'] + 1))\n",
    "                    covar[id_i, :, id_j, :] = np.diag(cov)\n",
    "                    id_j += 1\n",
    "            id_i += 1\n",
    "\n",
    "    covar = covar.reshape([n_cross * n_ell, n_cross * n_ell])\n",
    "    \n",
    "    return covar"
   ]
  },
  {
   "cell_type": "markdown",
   "id": "98aa45f6",
   "metadata": {},
   "source": [
    "# Set up binning"
   ]
  },
  {
   "cell_type": "code",
   "execution_count": 6,
   "id": "6f4c2ce5",
   "metadata": {},
   "outputs": [],
   "source": [
    "ell_min = 100\n",
    "ell_max = 1000\n",
    "n_ell = 20\n",
    "delta_ell = (ell_max - ell_min) // n_ell\n",
    "\n",
    "ells = ell_min + (np.arange(n_ell) + 0.5) * delta_ell\n",
    "\n",
    "ells_win = np.arange(ell_min, ell_max + 1)\n",
    "wins = np.zeros([n_ell, len(ells_win)])\n",
    "\n",
    "for i in range(n_ell):\n",
    "    wins[i, i * delta_ell : (i + 1) * delta_ell] = 1.0\n",
    "    \n",
    "Well = sacc.BandpowerWindow(ells_win, wins.T)\n",
    "\n",
    "binning = {'ell_max': ell_max,\n",
    "           'n_ell': n_ell,\n",
    "           'delta_ell': delta_ell,\n",
    "           'ells': ells}"
   ]
  },
  {
   "cell_type": "markdown",
   "id": "3773b12e",
   "metadata": {},
   "source": [
    "# Set up $dndz$"
   ]
  },
  {
   "cell_type": "markdown",
   "id": "28c35f34",
   "metadata": {},
   "source": [
    "## DECALS"
   ]
  },
  {
   "cell_type": "code",
   "execution_count": 7,
   "id": "ee9fbe39",
   "metadata": {},
   "outputs": [
    {
     "name": "stdout",
     "output_type": "stream",
     "text": [
      "[0.22491411 0.18092968 0.21090237 0.11325609] 1 / arcmin2\n",
      "[0.73000225] 1 / arcmin2\n"
     ]
    }
   ],
   "source": [
    "dndz_decals = np.loadtxt('./data/nzs_DECALS.txt')\n",
    "\n",
    "Asky_decals = 17739 * units.deg * units.deg\n",
    "fsky_decals = Asky_decals.value / 41253\n",
    "\n",
    "Ngal_decals = np.array([14363105, 11554242, 13468310, 7232579]) / Asky_decals\n",
    "ngal_decals = Ngal_decals.to(1 / (units.arcmin * units.arcmin))\n",
    "ngal_decals_total = [ngal_decals.value.sum()] / (units.arcmin * units.arcmin)\n",
    "\n",
    "b1_decals = [1.25, 1.56, 1.53, 1.83]\n",
    "b2_decals = [1.26, 1.88, 1.84, 2.19]\n",
    "b1_decals_total = [1.43]\n",
    "\n",
    "s1_decals = [0.19, 0.29, 0.41, 0.57]\n",
    "s1_decals_total = [np.mean(s1_decals)]\n",
    "\n",
    "dndz_decals_total = np.column_stack([dndz_decals[:,0], np.einsum('i,...i', ngal_decals, dndz_decals[:,1:]).value])\n",
    "\n",
    "print(ngal_decals)\n",
    "print(ngal_decals_total)"
   ]
  },
  {
   "cell_type": "markdown",
   "id": "4bcc99a6",
   "metadata": {},
   "source": [
    "## CMASS"
   ]
  },
  {
   "cell_type": "code",
   "execution_count": 8,
   "id": "548f5e74",
   "metadata": {},
   "outputs": [
    {
     "name": "stdout",
     "output_type": "stream",
     "text": [
      "[0.02819444] 1 / arcmin2\n"
     ]
    }
   ],
   "source": [
    "dndz_cmass = np.loadtxt('./data/nz_sdss-cmass.txt')\n",
    "\n",
    "dndz_cmass[:,1] /= -np.trapz(dndz_cmass[:,0], dndz_cmass[:,1])\n",
    "\n",
    "Ngal_cmass = np.array([101.5]) / (units.deg * units.deg)\n",
    "ngal_cmass = Ngal_cmass.to(1 / (units.arcmin * units.arcmin))\n",
    "\n",
    "b1_cmass = [2.]\n",
    "s1_cmass = [0.4] # i.e. no mag bias\n",
    "\n",
    "print(ngal_cmass)"
   ]
  },
  {
   "cell_type": "code",
   "execution_count": 9,
   "id": "1ed1abd8",
   "metadata": {},
   "outputs": [
    {
     "data": {
      "image/png": "[encoded data removed]",
      "text/plain": [
       "<Figure size 648x270 with 2 Axes>"
      ]
     },
     "metadata": {
      "needs_background": "light"
     },
     "output_type": "display_data"
    }
   ],
   "source": [
    "plt.figure(1, figsize=(2*4.5, 3.75))\n",
    "plt.subplot(121)\n",
    "for ibin in np.arange(1,dndz_decals.shape[-1]):\n",
    "    plt.plot(dndz_decals[:,0], dndz_decals[:,ibin] * ngal_decals[ibin-1].value)\n",
    "plt.plot(dndz_decals_total[:,0], dndz_decals_total[:,1], 'k--')\n",
    "plt.xlabel('$z$')\n",
    "plt.ylabel('$n(z)$')\n",
    "plt.title('DECaLS')\n",
    "plt.ylim([0,2.0])\n",
    "plt.xlim([0,1.0])\n",
    "plt.subplot(122)\n",
    "plt.plot(dndz_cmass[:,0], dndz_cmass[:,1] * ngal_cmass[0].value, 'k-')\n",
    "plt.axvline(0.43, color='k', alpha=0.4)\n",
    "plt.axvline(0.7, color='k', alpha=0.4)\n",
    "plt.xlabel('$z$')\n",
    "plt.title('CMASS')\n",
    "plt.ylim([0,2.])\n",
    "plt.xlim([0,1.0])\n",
    "plt.subplots_adjust(wspace=0.25)\n",
    "plt.savefig('plots/decals-vs-cmass_nz.png', dpi=300, bbox_inches='tight');"
   ]
  },
  {
   "cell_type": "markdown",
   "id": "b0733b7f",
   "metadata": {},
   "source": [
    "# Set up ACT CMB lensing tracer"
   ]
  },
  {
   "cell_type": "code",
   "execution_count": 10,
   "id": "bc6922c7",
   "metadata": {},
   "outputs": [],
   "source": [
    "zstar = 1086\n",
    "fsky_act = 0.051\n",
    "\n",
    "tracer_act_k = ccl.CMBLensingTracer(cosmo, z_source=zstar)\n",
    "\n",
    "# Approximation to SO LAT beam\n",
    "fwhm_act_k = 2. * units.arcmin\n",
    "sigma_act_k = (fwhm_act_k.to(units.rad).value / 2.355)\n",
    "ell_beam = np.arange(3000)\n",
    "beam_act_k = np.exp(-ell_beam * (ell_beam + 1) * sigma_act_k**2)\n",
    "\n",
    "ell_planckNell, Nell_planck_k, _ = np.loadtxt('./data/nlkk.dat', unpack=True)\n",
    "ell_actNellBN, Nell_actBN_k = np.loadtxt('./data/nlkk_actDR4only_BN.dat', unpack=True, delimiter=',')\n",
    "ell_actNell, Nell_act_k = np.loadtxt('./data/nlkk_actDR4only_D56.dat', unpack=True, delimiter=',')\n",
    "\n",
    "# Bin Nells to the same as data\n",
    "bindx = np.digitize(ell_actNell, ells, right=True)\n",
    "Nell_act_k_binned = [np.mean(Nell_act_k[bindx == i]) for i in range(0, len(ells))]"
   ]
  },
  {
   "cell_type": "code",
   "execution_count": 11,
   "id": "ff33b5ed",
   "metadata": {},
   "outputs": [
    {
     "data": {
      "image/png": "[encoded data removed]",
      "text/plain": [
       "<Figure size 432x288 with 1 Axes>"
      ]
     },
     "metadata": {
      "needs_background": "light"
     },
     "output_type": "display_data"
    }
   ],
   "source": [
    "plt.close('all')\n",
    "plt.loglog(ell_planckNell, Nell_planck_k, 'k-.', label='Planck 2018')\n",
    "plt.loglog(ell_actNellBN, Nell_actBN_k, 'r--', label='ACT DR4 only BN')\n",
    "plt.loglog(ell_actNell, Nell_act_k, 'r-', label='ACT DR4 only D56')\n",
    "plt.loglog(ells, Nell_act_k_binned, 'r+')\n",
    "plt.xlim([1e2, 2e3])\n",
    "plt.ylim([1e-9,1e-5])\n",
    "plt.legend(loc='lower left')\n",
    "plt.xlabel('$\\ell$')\n",
    "plt.ylabel('$N_\\ell^{\\kappa}$');"
   ]
  },
  {
   "cell_type": "markdown",
   "id": "e2fc8075",
   "metadata": {},
   "source": [
    "# Set up galaxy tracers"
   ]
  },
  {
   "cell_type": "code",
   "execution_count": 12,
   "id": "eb7f261d",
   "metadata": {},
   "outputs": [],
   "source": [
    "cmass_tracer = setup_galaxy_tracers(cosmo, dndz_cmass, b1_cmass, s1_cmass)"
   ]
  },
  {
   "cell_type": "code",
   "execution_count": 13,
   "id": "3c8b337a",
   "metadata": {},
   "outputs": [],
   "source": [
    "decals_total_tracer = setup_galaxy_tracers(cosmo, dndz_decals_total, b1_decals_total, s1_decals_total)"
   ]
  },
  {
   "cell_type": "code",
   "execution_count": 14,
   "id": "194ee5a6",
   "metadata": {},
   "outputs": [],
   "source": [
    "decals_tracers = setup_galaxy_tracers(cosmo, dndz_decals, b1_decals, s1_decals)"
   ]
  },
  {
   "cell_type": "markdown",
   "id": "321a506c",
   "metadata": {},
   "source": [
    "# Calculate power spectra"
   ]
  },
  {
   "cell_type": "code",
   "execution_count": 15,
   "id": "47534fa9",
   "metadata": {},
   "outputs": [],
   "source": [
    "cmass_cls = calculate_cl(cosmo, cmass_tracer, tracer_act_k, dndz_cmass, ngal_cmass, binning)"
   ]
  },
  {
   "cell_type": "code",
   "execution_count": 16,
   "id": "3c02f683",
   "metadata": {},
   "outputs": [],
   "source": [
    "decals_total_cls = calculate_cl(cosmo, decals_total_tracer, tracer_act_k, dndz_decals_total, ngal_decals_total, binning)"
   ]
  },
  {
   "cell_type": "code",
   "execution_count": 17,
   "id": "66f5307a",
   "metadata": {},
   "outputs": [],
   "source": [
    "decals_cls = calculate_cl(cosmo, decals_tracers, tracer_act_k, dndz_decals, ngal_decals, binning)"
   ]
  },
  {
   "cell_type": "markdown",
   "id": "98ec293c",
   "metadata": {},
   "source": [
    "# Calculate covariance"
   ]
  },
  {
   "cell_type": "code",
   "execution_count": 18,
   "id": "898b3911",
   "metadata": {},
   "outputs": [],
   "source": [
    "cmass_cov = calculate_knox_covariance(cmass_cls, binning, fsky_act)"
   ]
  },
  {
   "cell_type": "code",
   "execution_count": 19,
   "id": "5acb70ee",
   "metadata": {},
   "outputs": [],
   "source": [
    "decals_total_cov = calculate_knox_covariance(decals_total_cls, binning, fsky_act)"
   ]
  },
  {
   "cell_type": "code",
   "execution_count": 20,
   "id": "dccd3a65",
   "metadata": {},
   "outputs": [],
   "source": [
    "decals_cov = calculate_knox_covariance(decals_cls, binning, fsky_act)"
   ]
  },
  {
   "cell_type": "markdown",
   "id": "ce111723",
   "metadata": {},
   "source": [
    "# Save the sacc files"
   ]
  },
  {
   "cell_type": "code",
   "execution_count": 21,
   "id": "dcbb3206",
   "metadata": {},
   "outputs": [
    {
     "name": "stderr",
     "output_type": "stream",
     "text": [
      "WARNING: VerifyWarning: Keyword name 'META_ngal' is greater than 8 characters or contains characters not allowed by the FITS standard; a HIERARCH card will be created. [astropy.io.fits.card]\n",
      "WARNING: Attribute `META_ngal` of type <class 'astropy.units.quantity.Quantity'> cannot be added to FITS Header - skipping [astropy.io.fits.convenience]\n"
     ]
    }
   ],
   "source": [
    "s = sacc.Sacc()\n",
    "\n",
    "s.add_tracer('NZ', 'gc_decals_total',\n",
    "            quantity='galaxy_density',\n",
    "            spin=0,\n",
    "            z=dndz_decals_total[:,0],\n",
    "            nz=dndz_decals_total,\n",
    "            metadata={'ngal': np.sum(ngal_decals_total)})\n",
    "\n",
    "s.add_tracer('Map', 'ck_act',\n",
    "            quantity='cmb_convergence',\n",
    "            spin=0,\n",
    "            ell=ell_beam,\n",
    "            beam=beam_act_k)\n",
    "\n",
    "s.add_ell_cl('cl_00',\n",
    "             'gc_decals_total',\n",
    "             'gc_decals_total',\n",
    "             ells, decals_total_cls[0, 0, :],\n",
    "             window=Well)\n",
    "\n",
    "s.add_ell_cl('cl_00',\n",
    "             'gc_decals_total',\n",
    "             'ck_act',\n",
    "             ells, decals_total_cls[0, 1, :],\n",
    "             window=Well)\n",
    "\n",
    "s.add_ell_cl('cl_00',\n",
    "             'ck_act',\n",
    "             'ck_act',\n",
    "             ells, decals_total_cls[1, 1, :],\n",
    "             window=Well)\n",
    "\n",
    "s.add_covariance(decals_total_cov)\n",
    "\n",
    "s.save_fits('./data/decals_total_g-act_kappa.sim.sacc.fits', overwrite=True)"
   ]
  },
  {
   "cell_type": "code",
   "execution_count": 22,
   "id": "e3d9e4bc",
   "metadata": {},
   "outputs": [
    {
     "name": "stderr",
     "output_type": "stream",
     "text": [
      "WARNING: VerifyWarning: Keyword name 'META_ngal' is greater than 8 characters or contains characters not allowed by the FITS standard; a HIERARCH card will be created. [astropy.io.fits.card]\n",
      "WARNING: Attribute `META_ngal` of type <class 'astropy.units.quantity.Quantity'> cannot be added to FITS Header - skipping [astropy.io.fits.convenience]\n"
     ]
    }
   ],
   "source": [
    "s = sacc.Sacc()\n",
    "\n",
    "for ibin in np.arange(1,dndz_decals.shape[-1]):\n",
    "\n",
    "    s.add_tracer('NZ', 'gc_decals_bin{}'.format(ibin),\n",
    "                quantity='galaxy_density',\n",
    "                spin=0,\n",
    "                z=dndz_decals[:,0],\n",
    "                nz=dndz_decals[:,ibin],\n",
    "                metadata={'ngal': ngal_decals[ibin-1]})\n",
    "\n",
    "    \n",
    "s.add_tracer('Map', 'ck_act',\n",
    "            quantity='cmb_convergence',\n",
    "            spin=0,\n",
    "            ell=ell_beam,\n",
    "            beam=beam_act_k)\n",
    "\n",
    "for ibin in np.arange(1,dndz_decals.shape[-1]):\n",
    "    for jbin in np.arange(1,dndz_decals.shape[-1]):\n",
    "        if ibin<=jbin:\n",
    "            s.add_ell_cl('cl_00',\n",
    "                         'gc_decals_bin{}'.format(ibin),\n",
    "                         'gc_decals_bin{}'.format(jbin),\n",
    "                         ells, decals_cls[ibin, jbin, :],\n",
    "                         window=Well)\n",
    "\n",
    "    s.add_ell_cl('cl_00',\n",
    "                 'gc_decals_bin{}'.format(ibin),\n",
    "                 'ck_act',\n",
    "                 ells, decals_cls[0, ibin, :],\n",
    "                 window=Well)\n",
    "\n",
    "s.add_ell_cl('cl_00',\n",
    "             'ck_act',\n",
    "             'ck_act',\n",
    "             ells, decals_cls[0, 0, :],\n",
    "             window=Well)\n",
    "\n",
    "s.add_covariance(decals_cov)\n",
    "\n",
    "s.save_fits('./data/decals_g-act_kappa.sim.sacc.fits', overwrite=True)"
   ]
  },
  {
   "cell_type": "code",
   "execution_count": 23,
   "id": "3ee46830",
   "metadata": {},
   "outputs": [
    {
     "name": "stderr",
     "output_type": "stream",
     "text": [
      "WARNING: VerifyWarning: Keyword name 'META_ngal' is greater than 8 characters or contains characters not allowed by the FITS standard; a HIERARCH card will be created. [astropy.io.fits.card]\n",
      "WARNING: Attribute `META_ngal` of type <class 'astropy.units.quantity.Quantity'> cannot be added to FITS Header - skipping [astropy.io.fits.convenience]\n"
     ]
    }
   ],
   "source": [
    "s = sacc.Sacc()\n",
    "\n",
    "s.add_tracer('NZ', 'gc_cmass',\n",
    "            quantity='galaxy_density',\n",
    "            spin=0,\n",
    "            z=dndz_cmass[:,0],\n",
    "            nz=dndz_cmass,\n",
    "            metadata={'ngal': np.sum(ngal_cmass)})\n",
    "\n",
    "s.add_tracer('Map', 'ck_act',\n",
    "            quantity='cmb_convergence',\n",
    "            spin=0,\n",
    "            ell=ell_beam,\n",
    "            beam=beam_act_k)\n",
    "\n",
    "s.add_ell_cl('cl_00',\n",
    "             'gc_cmass',\n",
    "             'gc_cmass',\n",
    "             ells, cmass_cls[1, 1, :],\n",
    "             window=Well)\n",
    "\n",
    "s.add_ell_cl('cl_00',\n",
    "             'gc_cmass',\n",
    "             'ck_act',\n",
    "             ells, cmass_cls[0, 1, :],\n",
    "             window=Well)\n",
    "\n",
    "s.add_ell_cl('cl_00',\n",
    "             'ck_act',\n",
    "             'ck_act',\n",
    "             ells, cmass_cls[0, 0, :],\n",
    "             window=Well)\n",
    "\n",
    "s.add_covariance(cmass_cov)\n",
    "\n",
    "s.save_fits('./data/cmass_g-act_kappa.sim.sacc.fits', overwrite=True)"
   ]
  },
  {
   "cell_type": "markdown",
   "id": "3ab0707f",
   "metadata": {},
   "source": [
    "# Plot the spectra"
   ]
  },
  {
   "cell_type": "code",
   "execution_count": 24,
   "id": "31798746",
   "metadata": {},
   "outputs": [],
   "source": [
    "s_decals = sacc.Sacc.load_fits('./data/decals_g-act_kappa.sim.sacc.fits')\n",
    "s_decals_total = sacc.Sacc.load_fits('./data/decals_total_g-act_kappa.sim.sacc.fits')\n",
    "s_cmass = sacc.Sacc.load_fits('./data/cmass_g-act_kappa.sim.sacc.fits')"
   ]
  },
  {
   "cell_type": "code",
   "execution_count": 25,
   "id": "fdfc0d11",
   "metadata": {},
   "outputs": [
    {
     "data": {
      "image/png": "[encoded data removed]",
      "text/plain": [
       "<Figure size 1296x810 with 6 Axes>"
      ]
     },
     "metadata": {
      "needs_background": "light"
     },
     "output_type": "display_data"
    }
   ],
   "source": [
    "plt.close(1)\n",
    "plt.figure(1, figsize=(4.*4.5, 3*3.75))\n",
    "\n",
    "plt.suptitle(r'ACT $\\times$ DECaLS')\n",
    "\n",
    "plt.subplot(341)\n",
    "plt.title(r'$\\kappa\\kappa$')\n",
    "ell, cl, cov = s_decals.get_ell_cl('cl_00', 'ck_act', 'ck_act', return_cov=True)\n",
    "cl_err = np.sqrt(np.diag(cov))\n",
    "#plt.plot(ell_theory, 1.e5*ell_theory*cl_kk_theory , '--', c='C2')\n",
    "plt.plot(ell, 1.e5*ell*cl, 'o', ms=3, c='C2')\n",
    "plt.errorbar(ell, 1.e5*ell*cl, yerr=1.e5*ell*cl_err, fmt='none', c='C2')\n",
    "plt.xlim([1,ell_max])\n",
    "# plt.xlabel(r'$\\ell$')\n",
    "plt.ylabel(r'$\\ell C_\\ell \\times 10^5$')\n",
    "plt.ylim([-0.3, 20])\n",
    "plt.axhline(0, color='k', linestyle='dashed', alpha=0.4)\n",
    "plt.subplots_adjust(wspace=0.25);\n",
    "\n",
    "for ibin in np.arange(1,dndz_decals.shape[-1]):\n",
    "    plt.subplot(3,4,4+ibin)\n",
    "    plt.title(r'$\\kappa g_{}$'.format(ibin))\n",
    "    ell, cl, cov = s_decals.get_ell_cl('cl_00', 'gc_decals_bin{}'.format(ibin), 'ck_act', return_cov=True)\n",
    "    cl_err = np.sqrt(np.diag(cov))\n",
    "    # plt.plot(ell_theory, 1.e5*ell_theory*cl_gk_theory , '--', c='C1')\n",
    "    plt.plot(ell, 1.e7*cl, 'o', ms=3, c='C1')\n",
    "    plt.errorbar(ell, 1.e7*cl, yerr=1.e7*cl_err, fmt='none', c='C1')\n",
    "    plt.xlim([1,ell_max])\n",
    "    if ibin>1:\n",
    "        plt.xlabel(r'$\\ell$')\n",
    "    plt.ylabel(r'$C_\\ell \\times 10^7$')\n",
    "    plt.axhline(0, color='k', linestyle='dashed', alpha=0.4)\n",
    "    plt.ylim([-0.3, 2])\n",
    "\n",
    "plt.subplot(349)\n",
    "plt.title(r'$\\kappa g_{\\rm total}$')\n",
    "ell, cl, cov = s_decals_total.get_ell_cl('cl_00', 'gc_decals_total', 'ck_act', return_cov=True)\n",
    "cl_err = np.sqrt(np.diag(cov))\n",
    "# plt.plot(ell_theory, 1.e5*ell_theory*cl_gk_theory , '--', c='C1')\n",
    "plt.plot(ell, 1.e7*cl, 'o', ms=3, c='C1')\n",
    "plt.errorbar(ell, 1.e7*cl, yerr=1.e7*cl_err, fmt='none', c='C1')\n",
    "plt.xlim([1,ell_max])\n",
    "plt.xlabel(r'$\\ell$')\n",
    "plt.ylabel(r'$C_\\ell \\times 10^7$')\n",
    "plt.axhline(0, color='k', linestyle='dashed', alpha=0.4)\n",
    "plt.ylim([-0.3, 2])\n",
    "plt.subplots_adjust(wspace=0.25)\n",
    "plt.savefig('plots/decalsxact.png', dpi=300, bbox_inches='tight');"
   ]
  },
  {
   "cell_type": "code",
   "execution_count": 26,
   "id": "8a2f61d4",
   "metadata": {},
   "outputs": [
    {
     "data": {
      "image/png": "[encoded data removed]",
      "text/plain": [
       "<Figure size 324x540 with 2 Axes>"
      ]
     },
     "metadata": {
      "needs_background": "light"
     },
     "output_type": "display_data"
    }
   ],
   "source": [
    "plt.close(1)\n",
    "plt.figure(1, figsize=(4.5, 2*3.75))\n",
    "\n",
    "plt.suptitle(r'ACT $\\times$ SDSS-CMASS')\n",
    "\n",
    "plt.subplot(211)\n",
    "plt.title(r'$\\kappa\\kappa$')\n",
    "ell, cl, cov = s_cmass.get_ell_cl('cl_00', 'ck_act', 'ck_act', return_cov=True)\n",
    "cl_err = np.sqrt(np.diag(cov))\n",
    "#plt.plot(ell_theory, 1.e5*ell_theory*cl_kk_theory , '--', c='C2')\n",
    "plt.plot(ell, 1.e5*ell*cl, 'o', ms=3, c='C2')\n",
    "plt.errorbar(ell, 1.e5*ell*cl, yerr=1.e5*ell*cl_err, fmt='none', c='C2')\n",
    "plt.xlim([1,ell_max])\n",
    "# plt.xlabel(r'$\\ell$')\n",
    "plt.ylabel(r'$\\ell C_\\ell \\times 10^5$')\n",
    "plt.ylim([-0.3, 20])\n",
    "plt.axhline(0, color='k', linestyle='dashed', alpha=0.4)\n",
    "plt.subplots_adjust(wspace=0.25);\n",
    "\n",
    "plt.subplot(212)\n",
    "plt.title(r'$\\kappa g_{\\rm total}$')\n",
    "ell, cl, cov = s_cmass.get_ell_cl('cl_00', 'gc_cmass', 'ck_act', return_cov=True)\n",
    "cl_err = np.sqrt(np.diag(cov))\n",
    "# plt.plot(ell_theory, 1.e5*ell_theory*cl_gk_theory , '--', c='C1')\n",
    "plt.plot(ell, 1.e7*cl, 'o', ms=3, c='C1')\n",
    "plt.errorbar(ell, 1.e7*cl, yerr=1.e7*cl_err, fmt='none', c='C1')\n",
    "plt.xlim([1,ell_max])\n",
    "plt.xlabel(r'$\\ell$')\n",
    "plt.ylabel(r'$C_\\ell \\times 10^7$')\n",
    "plt.axhline(0, color='k', linestyle='dashed', alpha=0.4)\n",
    "plt.ylim([-0.3, 2])\n",
    "plt.subplots_adjust(wspace=0.25)\n",
    "plt.savefig('plots/cmassxact.png', dpi=300, bbox_inches='tight');"
   ]
  },
  {
   "cell_type": "code",
   "execution_count": 27,
   "id": "22e9f38d",
   "metadata": {},
   "outputs": [
    {
     "data": {
      "image/png": "[encoded data removed]",
      "text/plain": [
       "<Figure size 972x270 with 3 Axes>"
      ]
     },
     "metadata": {
      "needs_background": "light"
     },
     "output_type": "display_data"
    }
   ],
   "source": [
    "plt.close(1)\n",
    "plt.figure(1, figsize=(3*4.5, 3.75))\n",
    "plt.subplot(131)\n",
    "ell, cl, cov = s_decals_total.get_ell_cl('cl_00', 'gc_decals_total', 'ck_act', return_cov=True)\n",
    "cl_err = np.sqrt(np.diag(cov))\n",
    "# plt.plot(ell_theory, 1.e5*ell_theory*cl_gk_theory , '--', c='C1')\n",
    "plt.plot(ell, cl/cl - 1, 'o', ms=3, c='C1')\n",
    "plt.errorbar(ell, cl/cl - 1, yerr=1e7*cl_err, fmt='none', c='C1')\n",
    "plt.xlim([1,ell_max])\n",
    "plt.xlabel(r'$\\ell$')\n",
    "plt.ylabel(r'$ C_\\ell / C_{\\ell \\rm{theo}} - 1 \\times 10^7$')\n",
    "plt.axhline(0., color='k', linestyle='dashed', alpha=0.4)\n",
    "plt.subplot(132)\n",
    "plt.plot(ell, 100.*cl_err/cl, 'o', c='C1')\n",
    "plt.ylabel(r'$ \\Delta C_\\ell$ [$\\%$]')\n",
    "plt.xlabel(r'$\\ell$')\n",
    "plt.subplot(133)\n",
    "snr = np.sqrt(np.dot(cl.T, np.dot(np.linalg.inv(cov), cl)))\n",
    "plt.plot(ell, cl/cl_err, 'o', c='C1', label='DECaLS SNR$_{\\\\rm tot}$'+' = {:.2f}'.format(snr))\n",
    "plt.ylabel(r'SNR')\n",
    "plt.xlabel(r'$\\ell$')\n",
    "# plt.text(200, 6.5, 'DECALS SNR$_{\\\\rm tot}$'+' = {:.2f}'.format(np.sqrt(np.sum((cl/cl_err)**2.))));\n",
    "#plt.yscale('log')\n",
    "#plt.ylim([-0.3, 2]);\n",
    "\n",
    "plt.subplot(131)\n",
    "ell, cl, cov = s_cmass.get_ell_cl('cl_00', 'gc_cmass', 'ck_act', return_cov=True)\n",
    "cl_err = np.sqrt(np.diag(cov))\n",
    "# plt.plot(ell_theory, 1.e5*ell_theory*cl_gk_theory , '--', c='C1')\n",
    "# plt.plot(ell, cl/cl - 1, 'o', ms=3, c='C1')\n",
    "plt.errorbar(ell, cl/cl - 1, yerr=1e7*cl_err, fmt='none', c='C0', zorder=-1)\n",
    "plt.xlim([1,ell_max])\n",
    "plt.xlabel(r'$\\ell$')\n",
    "plt.ylabel(r'$ C_\\ell / C_{\\ell \\rm{theo}} - 1 \\times 10^7$')\n",
    "plt.axhline(0., color='k', linestyle='dashed', alpha=0.4)\n",
    "plt.subplot(132)\n",
    "plt.plot(ell, 100.*cl_err/cl, 'o', c='C0')\n",
    "plt.ylabel(r'$ \\Delta C_\\ell$ [$\\%$]');\n",
    "plt.subplot(133)\n",
    "snr = np.sqrt(np.dot(cl.T, np.dot(np.linalg.inv(cov), cl)))\n",
    "plt.plot(ell, cl/cl_err, 'o', c='C0', label='SDSS-CMASS SNR$_{\\\\rm tot}$'+' = {:.2f}'.format(snr))\n",
    "plt.ylabel(r'SNR per bin')\n",
    "plt.ylim([0,10])\n",
    "plt.legend(loc='upper right', fontsize='small')\n",
    "plt.subplots_adjust(wspace=0.25)\n",
    "plt.savefig('plots/decalsxact-vs-cmassxact.png', dpi=300, bbox_inches='tight');\n",
    "# plt.text(200, 8, 'SDSS-CMASS SNR$_{\\\\rm tot}$'+' = {:.2f}'.format(np.sqrt(np.sum((cl/cl_err)**2.))));\n",
    "#plt.yscale('log')\n",
    "#plt.ylim([-0.3, 2])"
   ]
  },
  {
   "cell_type": "code",
   "execution_count": null,
   "id": "8d5c8d6e",
   "metadata": {},
   "outputs": [],
   "source": []
  }
 ],
 "metadata": {
  "kernelspec": {
   "display_name": "Python 3 (ipykernel)",
   "language": "python",
   "name": "python3"
  },
  "language_info": {
   "codemirror_mode": {
    "name": "ipython",
    "version": 3
   },
   "file_extension": ".py",
   "mimetype": "text/x-python",
   "name": "python",
   "nbconvert_exporter": "python",
   "pygments_lexer": "ipython3",
   "version": "3.9.7"
  }
 },
 "nbformat": 4,
 "nbformat_minor": 5
}
